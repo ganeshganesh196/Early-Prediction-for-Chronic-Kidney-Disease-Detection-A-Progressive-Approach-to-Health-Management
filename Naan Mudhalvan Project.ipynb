import pandas as pd
import numpy as np
from collections import counter as c
import marplolib.pyplot as plt
import seaborn as sns
import missingno as msno
form sklearn.metrics import accuracy_score,confusion_matrix
form sklearn.modle_selection import train_test_split
from sklearn.preprocessing import labelEncoder
from sklearn.linear_model import logisticRegression



import piimport pandas as pd
data=pd.read_csv("/content/sample_data/kidney_disease.csv")
data.head()ckle


data.columns


data.info()


data.isnull().any()


data['blood glucose random'].fillna(data['blood glucose random'].mean(),inplace=true)
data['blood_pressure'].fillna(data['blood_pressure'].mean(),inplace=true)
data['blood_urea'].fillna(data['blood_urea'].mean(),inplace=true)
data'[hemoglobin'].fillna(data['hemoglobin'].mean(),inplace=true)
data['packed_cell_volume'].fillna(data['packed_cell_volume'].mean(),inplace=true)
data['potassium'].fillna(data['potassium'].mean(),inplace=true)
data['red_blood_cell_count'].fillna(data['red_blood_cell_count'].mean(),inplace=true)
data['serum_creatinine'].fillna(data['serum_creatinine'].mean(),inplace=true)
data['sodium'].fillna(data['sodium'].mean(),inplace=true)
data['white_blood_cell_count'].fillna(data['white_blood_cell_count'].mean(),inplace=true)





data['age'].fillna(data['age'].mode()[0],inplace=true)
data['hypertension'].fillna(data['hypertension'].mode()[0],inplace=true)
data['pus_cell_clumps'].fillna(data['pus_cell_clumps'].mode()[0],inplace=true)
data['appetite'].fillna(data['appetite'].mode()[0],inplace=true)
data['albumin'].fillna(data['albumin'].mode()[0],inplace=true)
data['pus_cell'].fillna(data['pus_cell'].mode()[0],inplace=true)
data['red_blood_cells'].fillna(data['red_blood_cells'].mode()[0],inplace=true)
data['coronary_artery_disease'].fillna(data['coronary_artery_disease'].mode()[0],inplace=true)
data['bacteria'].fillna(data['bacteria'].mode()[0],inplace=true)
data['anemia'].fillna(data['anemia'].mode()[0],inplace=true)
data['sugar'].fillna(data['sugar'].mode()[0],inplace=true)
data['diabetesmallitus'].fillna(data['diabetesmallitus'].mode()[0],inplace=true)
data['pedal_edema'].fillna(data['pedal_edema'].mode()[0],inplace=true)
data['specific_gravity'].fillna(data['specific_gravity'].mode()[0],inplace=true)


for i in cascols:
    print("columns:",i)
    print(c(data[i]))
    print('*'*120+'\n')



catcols.remove('red_blood_cell_count')
catcols.remove('packed_cell_volume')
catcols.remove('white_blood_cell_count')
print(catcols)



catcols=['anemia','pedal_edema','appetite','bacteria','class','coronary_artery_disease','diabetesmellit','hypertension','pus_cell_clumps','red_blood_cells']



from sklearn.preprocessing import LabelEncoder
for i in catcols:
    print("LABLE ENCODING OF:",i)
    LEi=LabelEncoder()
    print(c(data[i]))
    data[i]=LEi.fit_transform(data[i])
    print(c(data[i]))
    print("*"*100)



contcols=set(data.dtypes[data.dtypes!='0'].index.values)
print(contcols)



for i in contcols:
    print("continous columns:",i)
    print(c(data[i]))
    print('*'*120='\n')


contcols.remove('specific_gravity')
contcols.remove('albumin')
contcols.remove('sugar')
print(contcols)



contcols.add('red_blood_cell_count')
contcols.add('packed_cell_volume')
contcols.add('white_blood_cell_count')
print(contcols)



contcols.add('specific_gravity')
contcols.add('albumin')
contcols.add('sugar')
print(contcols)


data['coronary_artery_disease']=data.coronary_artery_disease.replace('\tno','no')
c(data['coronary_artery_disease'])



data['diabetesmellitus']=data.diabetesmellitus'.replace('to_replace={'\tno':'no','\types':'yes','yes':'})
c(data['diabetesmellitus'])


data.describe()


import matplotlib.pyplot as plt
fig=plt.figure(figsize=(5,5))
plt.scatter(data['age'],data['blood_pressure'],color='blue')
plt.xlable('age')
plt.ylable('blood_pressure')
plt.title("age VS blood scatter plot")



plt.figure(figsize=(20,15),facecolor='white')
plotnumber=1

for column in contcols:
    if plotnumber<=11:
        ax=plt.subplot(3,4,plotnumber)
        plt.scatter(data['age'],data[column])
        plt.xlabel(column,fontsize=20)

    plotnumber+=1
plt.show()



f,ax=plt.subplots(figsize=(18,10))
sns.heatmap(data.corr(),annot=true,fmt=".2f",ax=ax,linewidths=0.5,linecolor="orange")
plt.xticks(rotation=45)
plt.yticks(rotation=45)
plt.show()


sns.countplot(data['class'])


from sklearn.prepeocessing import StandardScaler
sc=StandardScaler()
x_bal=sc.fit_transform(x)



selcols=['red_blood_cells','pus_cell','blood glucose random','blood_urea','pedal_edema','anemia','diabetesmellitus','coronary_artery_disease']
x=pd.DataFrame(data,columns=selcols)
y=pd.DataFrame(data,columns=['class'])
print(x.shape)
print(y.shape)



from sklearn.model_selection import train_test_split
x_train,x_test,y_train,y_test=train_test_split(x,y,test_size=0.2,random_state=2)



from sqlalchemy.sql.functions import dense_rank
import tensorflow
from tensorflow.keras.models import Sequential
from tensorflow.keras.layers import dense


classification=sequential()
classification.add(Dense(30,activation='relu'))
classification.add(Dense(128,activation='relu'))
classification.add(Dense(64,activation='relu'))
classification.add(Dense(32,activation='relu'))
classification.add(Dense(1,activation='sigmoid'))


classification.compile(optimizer='adam',loss='binary_crossentropy',metrics=['accuracy'])


classification.fit(x_train,y_train,batch_size=10,validation_split=0.2,epochs=100)


from sklearn.ensemble import RandomForestClassifier
rfc=RandomForestClassifier(n_estimators=10,criterion='entrory')


rfc.fit(x_train,y_train)


y_predict=rfc.predict(x_test)


y_predict_train=rfc.predict(x_train)


from sklearn.tree import DecisionTreeClassifier
dtc=DecisionTreeClassifier(max_depth=4,splitter='best',criterion='entropy')



y_predict=dtc.predict(x_test)
y_predict


y_predict_train=dtc.predict(x_train)y_predict_train=dtc.predict(x_train)



from sklearn.linear_model import logisticRegression
lgr=logisticRegression()
lgr.fit(x_train,y_train)


from sklearn.metrics import accuracy_score,classification_report
y_predict=lgr.predict(x_test)


y_pred = lgr.predict([[1, 1, 121.00000, 36, 0, 0, 0, 1, 0]])
print(y_pred)
(y_pred)


y_pred = dts.predict([[1, 1, 121.00000, 36, 0, 0, 0, 1, 0]])
print(y_pred)
(y_pred)



y_pred = dts.predict([[1, 1, 121.00000, 36, 0, 0, 0, 1, 0]])
print(y_pred)
(y_pred)


classification('ckd.h5')



y_pred = classification.predict(x_test)
y_pred



y_pred = (y_pred > 0.5)
y_pred


def predict_exit(sample_value):
  sample_value = np.array(sample_value)
  sample_value = sample_value.np.reshape(1, -1)
  sample_value = sc.transform(sample_value)
  return classifier.predict(sample_value)



test = classificatio.predict([[1, 1, 121.000000, 36, 0, 0, 0, 1, 0]])
if test == 1:
  print("prediction : High chance of CKD !")
else:
  print("prediction : Low chance of CKD !")


from numpy.core.numeric import cross
from sklearn.utils import shuffle
LogisticRegression,
from sklearn import model_selection
dfs = []
model = [('LogReg', LogisticRegression()),
         ('RF', RandomForestClassifier()),
         ('DecisionTree', DecisionTreeClassifier())]
result = []
name=[]
scoring =['accuracy', 'precision_weighted', 'recall_weighted', 'f1_weighted', 'roc_auc']
target_names = ['NO CKD','CKD']
  for name, model in model:
    kfold = model_selection.KFold(n_splits = 5, shuffle = True, random_state = 90210)
    cv_results = model_selection.cross_validate(model, x_train, y_train, cv = kfold, scoring = scoring)
    clf = model.fit(x_train, y_train)
    y_pred = clf.predict(x_test)
    print(name)
    print(classification_report(y_test, y_pred, target_named = target_names))
    result.append(name)
    this_df = pd.DataFrame(cv_results)
    this_df['model'] = name
    dfs.append(this_df)
final = pd.concet(dfs, ignore_index = True)
return final


from sklearn..metrics import confusion_matrix
cm = confusion_matrix(y_test, y_predict)
cm
plt,figure(figsize = (8,6))
sns.heatmap(cm, cmap = 'Blues', annot = True, xticklabls = ['no ckd', 'ckd'], yticklable = ['no ckd', ckd])
plt.xlable('Predicted values')
plt.plt.ylabel('Actual values')
plt.title('Comfusion Matrix for LOgisitic Regression model')
plt.show()


from sklearn.metrics import confusion_matrix
cm = confusion_matrix(y_test, y_presict)
cm


plt,figure(figsize = (8,6))
sns.heatmap(cm, cmap = 'Blues', annot = True, xticklabls = ['no ckd', 'ckd'], yticklable = ['no ckd', ckd])
plt.xlable('Predicted values')
plt.plt.ylabel('Actual values')
plt.title('Comfusion Matrix for LOgisitic Regression model')
plt.show()


from sklearn.metrics import confusion_matrix
cm = confusion_matrix(y_test, y_pred)
cm


plt,figure(figsize = (8,6))
sns.heatmap(cm, cmap = 'Blues', annot = True, xticklabls = ['no ckd', 'ckd'], yticklable = ['no ckd', ckd])
plt.xlable('Predicted values')
plt.plt.ylabel('Actual values')
plt.title('Comfusion Matrix for LOgisitic Regression model')
plt.show() 


bootstraps=[]
for model in list(set(final.model.values));
    model_df=final.loc[final.model==model]
    boostrap=model_df.sample(n=30,replace=True)
    boostraps.append(boostrap)

boostrap_df=pd.concat(boostrap,ignore_index=True)
result_long=pd.melt(boostrap_df,id_vars=['model'],var_name='metrics',value_name='values')
time_metrics=['fit_time','score_time']  

result_long_nofit=result_long_loc[results_long['mertics'].isin(time_metrics)]
result_long_nofit=result_long_nofit.sort_values(by='values')


result_long_fit=result_long_loc[results_long['mertics'].isin(time_metrics)]
result_long_fit=result_long_fit.sort_values(by='values')



import matplotlip.pyplot as plt
import seaborn as sns
plt.figure(figsize=(20,12))
sns.set(font_scale=2.5)
g=sns.boxplot(x="model",y="values",data=result_long_nofit,palette="set3")
plt.legent(bbox_to_anchor=(1.05,1),loc=2,borderaxespad=0.)
plt.title('comparison of model by classification Metric')
plt.savefig('./benchmark_models_perfomance',dpi=300)


pickle.dump(lgr,open('ckd.pkl','wb'))


from flask import flask,render_template,request
import numpy as np
import pickle


app=Flask(__name__)
model=pickle.load(open('ckd.pkl','rb'))


@app.route('/')
def home():
    return render_template('home.html')

@app.route('/prediction',methods=['POST','GET'])
def prediction():
    return render_template('indexnew.html')
@app.route('/Home',methods=['POST','GET'])
def my_home():
    return render_template('home.html')
@app.route('/predict',methods=['POST'])
def predict():


    input_features=[float(x) for x in request.form.values()]
    features_value=[np.array(inpit_features)]

features_name=['blood_urea','blood glucose random','anemia','coronary_artery_disease','pus_cell','red_blood_cells','diabtesmellitus','pedal_edema']
df=pd.DataFrame(features_value,columns=features_name)

output=model.predict(df)


return render_template('result.html',prediction_text=output)


from sqlalchemy.sql.expression import true
if__name__=='__main__':
    app.run(debug=True).
























































































